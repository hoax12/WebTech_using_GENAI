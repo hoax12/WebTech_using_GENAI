{
  "nbformat": 4,
  "nbformat_minor": 0,
  "metadata": {
    "colab": {
      "provenance": [],
      "gpuType": "T4",
      "include_colab_link": true
    },
    "kernelspec": {
      "name": "python3",
      "display_name": "Python 3"
    },
    "language_info": {
      "name": "python"
    },
    "accelerator": "GPU"
  },
  "cells": [
    {
      "cell_type": "markdown",
      "metadata": {
        "id": "view-in-github",
        "colab_type": "text"
      },
      "source": [
        "<a href=\"https://colab.research.google.com/github/hoax12/WebTech_using_GENAI/blob/main/3DGaussianSplatting_INRIA_Method_Colab.ipynb\" target=\"_parent\"><img src=\"https://colab.research.google.com/assets/colab-badge.svg\" alt=\"Open In Colab\"/></a>"
      ]
    },
    {
      "cell_type": "markdown",
      "source": [
        "# Python downgrading\n"
      ],
      "metadata": {
        "id": "LYiyaKJVzVR5"
      }
    },
    {
      "cell_type": "code",
      "execution_count": 1,
      "metadata": {
        "colab": {
          "base_uri": "https://localhost:8080/"
        },
        "id": "bEU8kAEozSnY",
        "outputId": "2a3f1373-c2a8-495f-92f7-f96cf40bd5aa"
      },
      "outputs": [
        {
          "output_type": "stream",
          "name": "stdout",
          "text": [
            "--2025-10-07 04:44:23--  https://repo.anaconda.com/miniconda/Miniconda3-py37_23.1.0-1-Linux-x86_64.sh\n",
            "Resolving repo.anaconda.com (repo.anaconda.com)... 104.16.191.158, 104.16.32.241, 2606:4700::6810:bf9e, ...\n",
            "Connecting to repo.anaconda.com (repo.anaconda.com)|104.16.191.158|:443... connected.\n",
            "HTTP request sent, awaiting response... 200 OK\n",
            "Length: 90665082 (86M) [application/x-sh]\n",
            "Saving to: ‘mini.sh’\n",
            "\n",
            "mini.sh             100%[===================>]  86.46M   272MB/s    in 0.3s    \n",
            "\n",
            "2025-10-07 04:44:23 (272 MB/s) - ‘mini.sh’ saved [90665082/90665082]\n",
            "\n",
            "PREFIX=/usr/local\n",
            "Unpacking payload ...\n",
            "                                                                              \n",
            "Installing base environment...\n",
            "\n",
            "\n",
            "Downloading and Extracting Packages\n",
            "\n",
            "\n",
            "Downloading and Extracting Packages\n",
            "\n",
            "Preparing transaction: - \b\b\\ \b\b| \b\b/ \b\bdone\n",
            "Executing transaction: \\ \b\b| \b\b/ \b\b- \b\b\\ \b\b| \b\b/ \b\b- \b\b\\ \b\b| \b\b/ \b\b- \b\b\\ \b\b| \b\b/ \b\b- \b\b\\ \b\b| \b\bdone\n",
            "installation finished.\n",
            "WARNING:\n",
            "    You currently have a PYTHONPATH environment variable set. This may cause\n",
            "    unexpected behavior when running the Python interpreter in Miniconda3.\n",
            "    For best results, please verify that your PYTHONPATH only points to\n",
            "    directories of packages that are compatible with the Python interpreter\n",
            "    in Miniconda3: /usr/local\n",
            "Collecting package metadata (current_repodata.json): ...working... done\n",
            "Solving environment: ...working... done\n",
            "\n",
            "## Package Plan ##\n",
            "\n",
            "  environment location: /usr/local\n",
            "\n",
            "  added / updated specs:\n",
            "    - python=3.7\n",
            "\n",
            "\n",
            "The following packages will be downloaded:\n",
            "\n",
            "    package                    |            build\n",
            "    ---------------------------|-----------------\n",
            "    ca-certificates-2025.9.9   |       h06a4308_0         127 KB\n",
            "    openssl-1.1.1w             |       h7f8727e_0         3.7 MB\n",
            "    ------------------------------------------------------------\n",
            "                                           Total:         3.9 MB\n",
            "\n",
            "The following packages will be UPDATED:\n",
            "\n",
            "  ca-certificates                     2023.01.10-h06a4308_0 --> 2025.9.9-h06a4308_0 \n",
            "  openssl                                 1.1.1s-h7f8727e_0 --> 1.1.1w-h7f8727e_0 \n",
            "\n",
            "\n",
            "Preparing transaction: ...working... done\n",
            "Verifying transaction: ...working... done\n",
            "Executing transaction: ...working... done\n",
            "Python 3.7.16\n"
          ]
        }
      ],
      "source": [
        "!wget -O mini.sh https://repo.anaconda.com/miniconda/Miniconda3-py37_23.1.0-1-Linux-x86_64.sh\n",
        "!chmod +x mini.sh\n",
        "!bash ./mini.sh -b -f -p /usr/local\n",
        "!conda install -q -y python=3.7\n",
        "import sys\n",
        "sys.path.append('/usr/local/lib/python3.7/site-packages')\n",
        "!python --version  # Should say Python 3.7.x"
      ]
    },
    {
      "cell_type": "markdown",
      "source": [
        "# CUDA 11.8"
      ],
      "metadata": {
        "id": "iJvxRlTYzyGE"
      }
    },
    {
      "cell_type": "code",
      "source": [
        "!wget https://developer.download.nvidia.com/compute/cuda/11.8.0/local_installers/cuda_11.8.0_520.61.05_linux.run\n",
        "!chmod +x cuda_11.8.0_520.61.05_linux.run\n",
        "!./cuda_11.8.0_520.61.05_linux.run --silent --toolkit --no-drm --no-man-page\n",
        "import os\n",
        "os.environ['PATH'] += ':/usr/local/cuda-11.8/bin'\n",
        "os.environ['LD_LIBRARY_PATH'] = '/usr/local/cuda-11.8/lib64:/usr/lib64-nvidia'\n",
        "!nvcc --version  # Should show CUDA 11.8"
      ],
      "metadata": {
        "colab": {
          "base_uri": "https://localhost:8080/"
        },
        "id": "6V1R_kOfzxck",
        "outputId": "075008ff-b169-4969-b366-729f841b0cdf"
      },
      "execution_count": 2,
      "outputs": [
        {
          "output_type": "stream",
          "name": "stdout",
          "text": [
            "--2025-10-07 04:45:00--  https://developer.download.nvidia.com/compute/cuda/11.8.0/local_installers/cuda_11.8.0_520.61.05_linux.run\n",
            "Resolving developer.download.nvidia.com (developer.download.nvidia.com)... 2.16.106.152, 2.16.106.132\n",
            "Connecting to developer.download.nvidia.com (developer.download.nvidia.com)|2.16.106.152|:443... connected.\n",
            "HTTP request sent, awaiting response... 200 OK\n",
            "Length: 4336730777 (4.0G) [application/octet-stream]\n",
            "Saving to: ‘cuda_11.8.0_520.61.05_linux.run’\n",
            "\n",
            "cuda_11.8.0_520.61. 100%[===================>]   4.04G   246MB/s    in 25s     \n",
            "\n",
            "2025-10-07 04:45:25 (167 MB/s) - ‘cuda_11.8.0_520.61.05_linux.run’ saved [4336730777/4336730777]\n",
            "\n",
            "nvcc: NVIDIA (R) Cuda compiler driver\n",
            "Copyright (c) 2005-2022 NVIDIA Corporation\n",
            "Built on Wed_Sep_21_10:33:58_PDT_2022\n",
            "Cuda compilation tools, release 11.8, V11.8.89\n",
            "Build cuda_11.8.r11.8/compiler.31833905_0\n"
          ]
        }
      ]
    },
    {
      "cell_type": "markdown",
      "source": [
        "#Pytorch with cuda"
      ],
      "metadata": {
        "id": "5Cfq4AGJzlAI"
      }
    },
    {
      "cell_type": "code",
      "source": [
        "!pip uninstall torch torchvision torchaudio -y\n",
        "!pip install torch==1.12.1+cu116 torchvision==0.13.1+cu116 torchaudio==0.12.1 --extra-index-url https://download.pytorch.org/whl/cu116"
      ],
      "metadata": {
        "colab": {
          "base_uri": "https://localhost:8080/",
          "height": 602
        },
        "id": "bzg2csQeznWA",
        "outputId": "186b03e1-e456-427e-e1e2-df39bec24866"
      },
      "execution_count": 3,
      "outputs": [
        {
          "output_type": "stream",
          "name": "stdout",
          "text": [
            "\u001b[33mWARNING: Skipping torch as it is not installed.\u001b[0m\u001b[33m\n",
            "\u001b[0m\u001b[33mWARNING: Skipping torchvision as it is not installed.\u001b[0m\u001b[33m\n",
            "\u001b[0m\u001b[33mWARNING: Skipping torchaudio as it is not installed.\u001b[0m\u001b[33m\n",
            "\u001b[0mLooking in indexes: https://pypi.org/simple, https://download.pytorch.org/whl/cu116\n",
            "Collecting torch==1.12.1+cu116\n",
            "  Downloading https://download.pytorch.org/whl/cu116/torch-1.12.1%2Bcu116-cp37-cp37m-linux_x86_64.whl (1904.8 MB)\n",
            "\u001b[2K     \u001b[90m━━━━━━━━━━━━━━━━━━━━━━━━━━━━━━━━━━━━━━━━\u001b[0m \u001b[32m1.9/1.9 GB\u001b[0m \u001b[31m?\u001b[0m eta \u001b[36m0:00:00\u001b[0m\n",
            "\u001b[?25hCollecting torchvision==0.13.1+cu116\n",
            "  Downloading https://download.pytorch.org/whl/cu116/torchvision-0.13.1%2Bcu116-cp37-cp37m-linux_x86_64.whl (23.5 MB)\n",
            "\u001b[2K     \u001b[90m━━━━━━━━━━━━━━━━━━━━━━━━━━━━━━━━━━━━━━━━\u001b[0m \u001b[32m23.5/23.5 MB\u001b[0m \u001b[31m73.1 MB/s\u001b[0m eta \u001b[36m0:00:00\u001b[0m\n",
            "\u001b[?25hCollecting torchaudio==0.12.1\n",
            "  Downloading https://download.pytorch.org/whl/cu116/torchaudio-0.12.1%2Bcu116-cp37-cp37m-linux_x86_64.whl (3.8 MB)\n",
            "\u001b[2K     \u001b[90m━━━━━━━━━━━━━━━━━━━━━━━━━━━━━━━━━━━━━━━━\u001b[0m \u001b[32m3.8/3.8 MB\u001b[0m \u001b[31m75.9 MB/s\u001b[0m eta \u001b[36m0:00:00\u001b[0m\n",
            "\u001b[?25hRequirement already satisfied: typing-extensions in /usr/local/lib/python3.7/site-packages (from torch==1.12.1+cu116) (4.4.0)\n",
            "Collecting pillow!=8.3.*,>=5.3.0\n",
            "  Downloading Pillow-9.5.0-cp37-cp37m-manylinux_2_28_x86_64.whl (3.4 MB)\n",
            "\u001b[2K     \u001b[90m━━━━━━━━━━━━━━━━━━━━━━━━━━━━━━━━━━━━━━━━\u001b[0m \u001b[32m3.4/3.4 MB\u001b[0m \u001b[31m18.8 MB/s\u001b[0m eta \u001b[36m0:00:00\u001b[0m\n",
            "\u001b[?25hCollecting numpy\n",
            "  Downloading https://download.pytorch.org/whl/numpy-1.21.6-cp37-cp37m-manylinux_2_12_x86_64.manylinux2010_x86_64.whl (15.7 MB)\n",
            "\u001b[2K     \u001b[90m━━━━━━━━━━━━━━━━━━━━━━━━━━━━━━━━━━━━━━━━\u001b[0m \u001b[32m15.7/15.7 MB\u001b[0m \u001b[31m91.9 MB/s\u001b[0m eta \u001b[36m0:00:00\u001b[0m\n",
            "\u001b[?25hRequirement already satisfied: requests in /usr/local/lib/python3.7/site-packages (from torchvision==0.13.1+cu116) (2.28.1)\n",
            "Requirement already satisfied: charset-normalizer<3,>=2 in /usr/local/lib/python3.7/site-packages (from requests->torchvision==0.13.1+cu116) (2.0.4)\n",
            "Requirement already satisfied: idna<4,>=2.5 in /usr/local/lib/python3.7/site-packages (from requests->torchvision==0.13.1+cu116) (3.4)\n",
            "Requirement already satisfied: urllib3<1.27,>=1.21.1 in /usr/local/lib/python3.7/site-packages (from requests->torchvision==0.13.1+cu116) (1.26.14)\n",
            "Requirement already satisfied: certifi>=2017.4.17 in /usr/local/lib/python3.7/site-packages (from requests->torchvision==0.13.1+cu116) (2022.12.7)\n",
            "Installing collected packages: torch, pillow, numpy, torchvision, torchaudio\n",
            "Successfully installed numpy-1.21.6 pillow-9.5.0 torch-1.12.1+cu116 torchaudio-0.12.1+cu116 torchvision-0.13.1+cu116\n"
          ]
        },
        {
          "output_type": "display_data",
          "data": {
            "application/vnd.colab-display-data+json": {
              "pip_warning": {
                "packages": [
                  "PIL",
                  "numpy"
                ]
              },
              "id": "eb712b2b5bc24cc49800eebdd5c8738e"
            }
          },
          "metadata": {}
        }
      ]
    },
    {
      "cell_type": "markdown",
      "source": [
        "# Verification of the versions"
      ],
      "metadata": {
        "id": "QbskoEIW1kMT"
      }
    },
    {
      "cell_type": "code",
      "source": [
        "import torch\n",
        "print(torch.cuda.is_available())  # Should be True\n",
        "print(torch.version.cuda)        # Should be 11.3 (from PyTorch)\n",
        "print(torch.cuda.get_device_name(0))  # Should show GPU"
      ],
      "metadata": {
        "colab": {
          "base_uri": "https://localhost:8080/"
        },
        "id": "T6hplWJp1ncr",
        "outputId": "ba44aca1-9ff3-4b18-a5e4-3aedf6324809"
      },
      "execution_count": 1,
      "outputs": [
        {
          "output_type": "stream",
          "name": "stdout",
          "text": [
            "True\n",
            "12.6\n",
            "Tesla T4\n"
          ]
        }
      ]
    },
    {
      "cell_type": "code",
      "source": [
        "!nvidia-smi"
      ],
      "metadata": {
        "colab": {
          "base_uri": "https://localhost:8080/"
        },
        "id": "EzxF7zKL2Z5b",
        "outputId": "d41c4477-1555-40a9-ad81-baaf27636817"
      },
      "execution_count": 2,
      "outputs": [
        {
          "output_type": "stream",
          "name": "stdout",
          "text": [
            "Tue Oct  7 04:52:13 2025       \n",
            "+-----------------------------------------------------------------------------------------+\n",
            "| NVIDIA-SMI 550.54.15              Driver Version: 550.54.15      CUDA Version: 12.4     |\n",
            "|-----------------------------------------+------------------------+----------------------+\n",
            "| GPU  Name                 Persistence-M | Bus-Id          Disp.A | Volatile Uncorr. ECC |\n",
            "| Fan  Temp   Perf          Pwr:Usage/Cap |           Memory-Usage | GPU-Util  Compute M. |\n",
            "|                                         |                        |               MIG M. |\n",
            "|=========================================+========================+======================|\n",
            "|   0  Tesla T4                       Off |   00000000:00:04.0 Off |                    0 |\n",
            "| N/A   33C    P8             10W /   70W |       2MiB /  15360MiB |      0%      Default |\n",
            "|                                         |                        |                  N/A |\n",
            "+-----------------------------------------+------------------------+----------------------+\n",
            "                                                                                         \n",
            "+-----------------------------------------------------------------------------------------+\n",
            "| Processes:                                                                              |\n",
            "|  GPU   GI   CI        PID   Type   Process name                              GPU Memory |\n",
            "|        ID   ID                                                               Usage      |\n",
            "|=========================================================================================|\n",
            "|  No running processes found                                                             |\n",
            "+-----------------------------------------------------------------------------------------+\n"
          ]
        }
      ]
    },
    {
      "cell_type": "code",
      "source": [
        "%cd /content\n",
        "!git clone --recursive https://github.com/camenduru/gaussian-splatting\n",
        "!pip install -q plyfile\n",
        "\n",
        "%cd /content/gaussian-splatting\n",
        "!pip install -q /content/gaussian-splatting/submodules/diff-gaussian-rasterization\n",
        "!pip install -q /content/gaussian-splatting/submodules/simple-knn\n"
      ],
      "metadata": {
        "colab": {
          "base_uri": "https://localhost:8080/"
        },
        "id": "UXpilqZw6qnl",
        "outputId": "f61f148c-caee-47d4-b247-eaae45e723d7"
      },
      "execution_count": 3,
      "outputs": [
        {
          "output_type": "stream",
          "name": "stdout",
          "text": [
            "/content\n",
            "Cloning into 'gaussian-splatting'...\n",
            "remote: Enumerating objects: 603, done.\u001b[K\n",
            "remote: Total 603 (delta 0), reused 0 (delta 0), pack-reused 603 (from 1)\u001b[K\n",
            "Receiving objects: 100% (603/603), 2.09 MiB | 32.45 MiB/s, done.\n",
            "Resolving deltas: 100% (347/347), done.\n",
            "Submodule 'SIBR_viewers' (https://gitlab.inria.fr/sibr/sibr_core) registered for path 'SIBR_viewers'\n",
            "Submodule 'submodules/diff-gaussian-rasterization' (https://github.com/graphdeco-inria/diff-gaussian-rasterization) registered for path 'submodules/diff-gaussian-rasterization'\n",
            "Submodule 'submodules/simple-knn' (https://gitlab.inria.fr/bkerbl/simple-knn.git) registered for path 'submodules/simple-knn'\n",
            "Cloning into '/content/gaussian-splatting/SIBR_viewers'...\n",
            "warning: redirecting to https://gitlab.inria.fr/sibr/sibr_core.git/\n",
            "remote: Enumerating objects: 3293, done.        \n",
            "remote: Counting objects: 100% (322/322), done.        \n",
            "remote: Compressing objects: 100% (174/174), done.        \n",
            "remote: Total 3293 (delta 171), reused 280 (delta 148), pack-reused 2971 (from 1)        \n",
            "Receiving objects: 100% (3293/3293), 9.98 MiB | 31.43 MiB/s, done.\n",
            "Resolving deltas: 100% (2039/2039), done.\n",
            "Cloning into '/content/gaussian-splatting/submodules/diff-gaussian-rasterization'...\n",
            "remote: Enumerating objects: 329, done.        \n",
            "remote: Total 329 (delta 0), reused 0 (delta 0), pack-reused 329 (from 1)        \n",
            "Receiving objects: 100% (329/329), 111.52 KiB | 4.85 MiB/s, done.\n",
            "Resolving deltas: 100% (217/217), done.\n",
            "Cloning into '/content/gaussian-splatting/submodules/simple-knn'...\n",
            "remote: Enumerating objects: 37, done.        \n",
            "remote: Counting objects: 100% (37/37), done.        \n",
            "remote: Compressing objects: 100% (34/34), done.        \n",
            "remote: Total 37 (delta 18), reused 0 (delta 0), pack-reused 0 (from 0)        \n",
            "Receiving objects: 100% (37/37), 9.46 KiB | 9.46 MiB/s, done.\n",
            "Resolving deltas: 100% (18/18), done.\n",
            "Submodule path 'SIBR_viewers': checked out '14199886ae3f42358092c16ada909c1e0b1cba20'\n",
            "Submodule path 'submodules/diff-gaussian-rasterization': checked out '8064f52ca233942bdec2d1a1451c026deedd320b'\n",
            "Submodule 'third_party/glm' (https://github.com/g-truc/glm.git) registered for path 'submodules/diff-gaussian-rasterization/third_party/glm'\n",
            "Cloning into '/content/gaussian-splatting/submodules/diff-gaussian-rasterization/third_party/glm'...\n",
            "remote: Enumerating objects: 60004, done.        \n",
            "remote: Counting objects: 100% (272/272), done.        \n",
            "remote: Compressing objects: 100% (140/140), done.        \n",
            "remote: Total 60004 (delta 199), reused 138 (delta 131), pack-reused 59732 (from 3)        \n",
            "Receiving objects: 100% (60004/60004), 71.40 MiB | 28.63 MiB/s, done.\n",
            "Resolving deltas: 100% (45432/45432), done.\n",
            "Submodule path 'submodules/diff-gaussian-rasterization/third_party/glm': checked out '5c46b9c07008ae65cb81ab79cd677ecc1934b903'\n",
            "Submodule path 'submodules/simple-knn': checked out '44f764299fa305faf6ec5ebd99939e0508331503'\n",
            "/content/gaussian-splatting\n",
            "  Preparing metadata (setup.py) ... \u001b[?25l\u001b[?25hdone\n",
            "  Building wheel for diff-gaussian-rasterization (setup.py) ... \u001b[?25l\u001b[?25hdone\n",
            "  Preparing metadata (setup.py) ... \u001b[?25l\u001b[?25hdone\n",
            "  Building wheel for simple-knn (setup.py) ... \u001b[?25l\u001b[?25hdone\n"
          ]
        }
      ]
    },
    {
      "cell_type": "code",
      "source": [
        "# Mount Google Drive\n",
        "from google.colab import drive\n",
        "drive.mount('/content/drive')\n",
        "\n",
        "# Define the path to your zipped COLMAP output folder on your Drive\n",
        "# ASSUME your zip file is named 'colmap_outputs.zip' and is in the root of 'My Drive'\n",
        "ZIP_PATH = '/content/drive/MyDrive/ACV/15_seq.zip'\n",
        "\n",
        "# Define the destination directory for unzipping\n",
        "OUTPUT_DIR = '/content/colmap_data'\n",
        "!mkdir -p {OUTPUT_DIR}"
      ],
      "metadata": {
        "colab": {
          "base_uri": "https://localhost:8080/"
        },
        "id": "2GbT5KK271fa",
        "outputId": "55828988-649f-4257-9465-37b135621c19"
      },
      "execution_count": 5,
      "outputs": [
        {
          "output_type": "stream",
          "name": "stdout",
          "text": [
            "Mounted at /content/drive\n"
          ]
        }
      ]
    },
    {
      "cell_type": "code",
      "source": [
        "# Unzip the COLMAP output file\n",
        "print(f\"Unzipping {ZIP_PATH} to {OUTPUT_DIR}...\")\n",
        "!unzip -q {ZIP_PATH} -d {OUTPUT_DIR}\n",
        "print(\"Unzip complete.\")\n",
        "\n",
        "# Optional: List the contents to verify the structure\n",
        "!ls {OUTPUT_DIR}\n",
        "# Expected output should show your folders like: 15_seq, 30_seq, 15_exh, 30_exh"
      ],
      "metadata": {
        "colab": {
          "base_uri": "https://localhost:8080/"
        },
        "id": "MzBxo0zq-Ig8",
        "outputId": "2985ec32-ffb9-4a90-ca73-0a1a20a0215e"
      },
      "execution_count": 6,
      "outputs": [
        {
          "output_type": "stream",
          "name": "stdout",
          "text": [
            "Unzipping /content/drive/MyDrive/ACV/15_seq.zip to /content/colmap_data...\n",
            "Unzip complete.\n",
            "15_seq\n"
          ]
        }
      ]
    },
    {
      "cell_type": "code",
      "source": [
        "# Replace '15_exh' with the folder corresponding to your best 15-image SFM result\n",
        "DATASET_PATH_15 = '/content/colmap_data/15_seq'\n",
        "\n",
        "print(\"Starting GS training (15 images, 7k iterations, holdout 5)...\")\n",
        "!python train.py -s {DATASET_PATH_15} --iterations 7000 --model_path \"/content/drive/My Drive/gs_results/15_7k\""
      ],
      "metadata": {
        "colab": {
          "base_uri": "https://localhost:8080/"
        },
        "id": "6R-S3gTd-J3c",
        "outputId": "7aee54e2-a04d-4acb-91b3-e93fee3d2d6b"
      },
      "execution_count": 17,
      "outputs": [
        {
          "output_type": "stream",
          "name": "stdout",
          "text": [
            "Starting GS training (15 images, 7k iterations, holdout 5)...\n",
            "Optimizing /content/drive/My Drive/gs_results/15_7k\n",
            "Output folder: /content/drive/My Drive/gs_results/15_7k [07/10 05:33:48]\n",
            "Tensorboard not available: not logging progress [07/10 05:33:48]\n",
            "Reading camera 15/15 [07/10 05:33:48]\n",
            "Loading Training Cameras [07/10 05:33:48]\n",
            "[ INFO ] Encountered quite large input images (>1.6K pixels width), rescaling to 1.6K.\n",
            " If this is not desired, please explicitly specify '--resolution/-r' as 1 [07/10 05:33:48]\n",
            "Loading Test Cameras [07/10 05:33:59]\n",
            "Number of points at initialisation :  5806 [07/10 05:33:59]\n",
            "Training progress: 100% 7000/7000 [14:39<00:00,  7.96it/s, Loss=0.0355739]\n",
            "\n",
            "[ITER 7000] Evaluating train: L1 0.020053125172853473 PSNR 29.60729446411133 [07/10 05:48:39]\n",
            "\n",
            "[ITER 7000] Saving Gaussians [07/10 05:48:39]\n",
            "\n",
            "Training complete. [07/10 05:49:01]\n"
          ]
        }
      ]
    },
    {
      "cell_type": "code",
      "source": [
        "%cd /content/gaussian-splatting\n",
        "!nano scene/dataset_readers.py\n",
        "# Or use the file explorer on the left sidebar in Colab to navigate and edit the file."
      ],
      "metadata": {
        "colab": {
          "base_uri": "https://localhost:8080/"
        },
        "id": "MUdpVWtQDJAp",
        "outputId": "077d2e3f-6b2d-4c48-e4af-a357fbfdc955"
      },
      "execution_count": 8,
      "outputs": [
        {
          "output_type": "stream",
          "name": "stdout",
          "text": [
            "/content/gaussian-splatting\n",
            "/bin/bash: line 1: nano: command not found\n"
          ]
        }
      ]
    },
    {
      "cell_type": "code",
      "source": [
        "# Example for 10,000 iterations\n",
        "!python train.py -s /content/colmap_data/15_seq --iterations 7000"
      ],
      "metadata": {
        "colab": {
          "base_uri": "https://localhost:8080/"
        },
        "id": "4_Z0PvBXDJmz",
        "outputId": "7ccd43c5-310e-4334-d36e-37906a4dd4b7"
      },
      "execution_count": 9,
      "outputs": [
        {
          "output_type": "stream",
          "name": "stdout",
          "text": [
            "Optimizing \n",
            "Output folder: ./output/8d96b992-a [07/10 05:04:12]\n",
            "Tensorboard not available: not logging progress [07/10 05:04:12]\n",
            "\rReading camera 1/15\rReading camera 2/15\rReading camera 3/15\rReading camera 4/15\rReading camera 5/15\rReading camera 6/15\rReading camera 7/15\rReading camera 8/15\rReading camera 9/15\rReading camera 10/15\rReading camera 11/15\rReading camera 12/15\rReading camera 13/15\rReading camera 14/15\rReading camera 15/15 [07/10 05:04:12]\n",
            "Converting point3d.bin to .ply, will happen only the first time you open the scene. [07/10 05:04:12]\n",
            "Loading Training Cameras [07/10 05:04:12]\n",
            "[ INFO ] Encountered quite large input images (>1.6K pixels width), rescaling to 1.6K.\n",
            " If this is not desired, please explicitly specify '--resolution/-r' as 1 [07/10 05:04:12]\n",
            "Loading Test Cameras [07/10 05:04:25]\n",
            "Number of points at initialisation :  5806 [07/10 05:04:25]\n",
            "Training progress: 100% 7000/7000 [14:47<00:00,  7.89it/s, Loss=0.0359922]\n",
            "\n",
            "[ITER 7000] Evaluating train: L1 0.020016176998615267 PSNR 29.616649627685547 [07/10 05:19:12]\n",
            "\n",
            "[ITER 7000] Saving Gaussians [07/10 05:19:12]\n",
            "\n",
            "Training complete. [07/10 05:19:47]\n"
          ]
        }
      ]
    },
    {
      "cell_type": "code",
      "source": [
        "# Assuming you used the default local output and want to save it to your Drive:\n",
        "!cp -r ./content/gaussian-splatting/output/8d96b992-a /content/drive/MyDrive/gs_results/15_7k_seq_backup"
      ],
      "metadata": {
        "colab": {
          "base_uri": "https://localhost:8080/"
        },
        "id": "5VpQv5pPDj3K",
        "outputId": "d428762f-9305-4151-af2a-f299a497a434"
      },
      "execution_count": 13,
      "outputs": [
        {
          "output_type": "stream",
          "name": "stdout",
          "text": [
            "cp: cannot stat './content/gaussian-splatting/output/8d96b992-a': No such file or directory\n"
          ]
        }
      ]
    },
    {
      "cell_type": "code",
      "source": [
        "# Define the source and destination paths\n",
        "SOURCE_DIR = \"/content/gaussian-splatting/output/8d96b992-a\"\n",
        "DEST_DIR = \"/content/drive/MyDrive/gs_results/15_7k_seq_backup\" # Choose a descriptive name\n",
        "\n",
        "# Copy the entire directory\n",
        "print(f\"Copying model from {SOURCE_DIR} to {DEST_DIR}...\")\n",
        "!cp -r {SOURCE_DIR} {DEST_DIR}\n",
        "print(\"Copy complete.\")"
      ],
      "metadata": {
        "colab": {
          "base_uri": "https://localhost:8080/"
        },
        "id": "pwLbUw_CIX_x",
        "outputId": "78e705cc-f49d-4e07-e638-b7d2ec6a7080"
      },
      "execution_count": 15,
      "outputs": [
        {
          "output_type": "stream",
          "name": "stdout",
          "text": [
            "Copying model from /content/gaussian-splatting/output/8d96b992-a to /content/drive/MyDrive/gs_results/15_7k_seq_backup...\n",
            "Copy complete.\n"
          ]
        }
      ]
    },
    {
      "cell_type": "code",
      "source": [
        "# Path to your trained model on Google Drive\n",
        "MODEL_PATH=\"/content/drive/MyDrive/gs_results/15_7k\"\n",
        "\n",
        "# Execute the render.py script for evaluation.\n",
        "# -m: Specifies the path to the trained model directory.\n",
        "# --skip_train: Tells the script to only process the test/held-out views.\n",
        "# --eval: Instructs the script to compute quantitative metrics (PSNR, SSIM, etc.).\n",
        "!python render.py -m {MODEL_PATH} --skip_train --eval\n"
      ],
      "metadata": {
        "colab": {
          "base_uri": "https://localhost:8080/"
        },
        "id": "F2qjBGE9Oeed",
        "outputId": "7ae77a49-7717-483d-e333-8387b3df2dfe"
      },
      "execution_count": 20,
      "outputs": [
        {
          "output_type": "stream",
          "name": "stdout",
          "text": [
            "Looking for config file in /content/drive/MyDrive/gs_results/15_7k/cfg_args\n",
            "Config file found: /content/drive/MyDrive/gs_results/15_7k/cfg_args\n",
            "Rendering /content/drive/MyDrive/gs_results/15_7k\n",
            "Loading trained model at iteration 7000 [07/10 05:59:37]\n",
            "\rReading camera 1/15\rReading camera 2/15\rReading camera 3/15\rReading camera 4/15\rReading camera 5/15\rReading camera 6/15\rReading camera 7/15\rReading camera 8/15\rReading camera 9/15\rReading camera 10/15\rReading camera 11/15\rReading camera 12/15\rReading camera 13/15\rReading camera 14/15\rReading camera 15/15 [07/10 05:59:37]\n",
            "Loading Training Cameras [07/10 05:59:37]\n",
            "[ INFO ] Encountered quite large input images (>1.6K pixels width), rescaling to 1.6K.\n",
            " If this is not desired, please explicitly specify '--resolution/-r' as 1 [07/10 05:59:37]\n",
            "Loading Test Cameras [07/10 05:59:46]\n",
            "Rendering progress: 100% 3/3 [00:03<00:00,  1.29s/it]\n"
          ]
        }
      ]
    },
    {
      "cell_type": "code",
      "source": [
        "!python render.py -m {MODEL_PATH} --skip_train --eval"
      ],
      "metadata": {
        "id": "lHo0LgVxQLct",
        "outputId": "5cfac350-3932-4ef7-b1f2-0124490ce229",
        "colab": {
          "base_uri": "https://localhost:8080/"
        }
      },
      "execution_count": 21,
      "outputs": [
        {
          "output_type": "stream",
          "name": "stdout",
          "text": [
            "Looking for config file in /content/drive/MyDrive/gs_results/15_7k/cfg_args\n",
            "Config file found: /content/drive/MyDrive/gs_results/15_7k/cfg_args\n",
            "Rendering /content/drive/MyDrive/gs_results/15_7k\n",
            "Loading trained model at iteration 7000 [07/10 06:06:15]\n",
            "\rReading camera 1/15\rReading camera 2/15\rReading camera 3/15\rReading camera 4/15\rReading camera 5/15\rReading camera 6/15\rReading camera 7/15\rReading camera 8/15\rReading camera 9/15\rReading camera 10/15\rReading camera 11/15\rReading camera 12/15\rReading camera 13/15\rReading camera 14/15\rReading camera 15/15 [07/10 06:06:15]\n",
            "Loading Training Cameras [07/10 06:06:15]\n",
            "[ INFO ] Encountered quite large input images (>1.6K pixels width), rescaling to 1.6K.\n",
            " If this is not desired, please explicitly specify '--resolution/-r' as 1 [07/10 06:06:15]\n",
            "Loading Test Cameras [07/10 06:06:23]\n",
            "Rendering progress: 100% 3/3 [00:03<00:00,  1.21s/it]\n"
          ]
        }
      ]
    },
    {
      "cell_type": "code",
      "source": [
        "# Path to your best 15-image COLMAP output folder\n",
        "DATASET_PATH_15 = '/content/colmap_data/15_seq'\n",
        "\n",
        "# Run 30,000 iterations\n",
        "!python train.py -s {DATASET_PATH_15} --iterations 30000 --model_path \"/content/drive/My Drive/gs_results/15_30k\""
      ],
      "metadata": {
        "id": "Gzpqvcy0Rw04",
        "outputId": "bbed2f97-f6dd-4bae-a053-c3da829cc9ab",
        "colab": {
          "base_uri": "https://localhost:8080/"
        }
      },
      "execution_count": 22,
      "outputs": [
        {
          "output_type": "stream",
          "name": "stdout",
          "text": [
            "Optimizing /content/drive/My Drive/gs_results/15_30k\n",
            "Output folder: /content/drive/My Drive/gs_results/15_30k [07/10 06:08:58]\n",
            "Tensorboard not available: not logging progress [07/10 06:08:58]\n",
            "\rReading camera 1/15\rReading camera 2/15\rReading camera 3/15\rReading camera 4/15\rReading camera 5/15\rReading camera 6/15\rReading camera 7/15\rReading camera 8/15\rReading camera 9/15\rReading camera 10/15\rReading camera 11/15\rReading camera 12/15\rReading camera 13/15\rReading camera 14/15\rReading camera 15/15 [07/10 06:08:58]\n",
            "Loading Training Cameras [07/10 06:08:58]\n",
            "[ INFO ] Encountered quite large input images (>1.6K pixels width), rescaling to 1.6K.\n",
            " If this is not desired, please explicitly specify '--resolution/-r' as 1 [07/10 06:08:58]\n",
            "Loading Test Cameras [07/10 06:09:09]\n",
            "Number of points at initialisation :  5806 [07/10 06:09:09]\n",
            "Training progress:  23% 7000/30000 [14:47<1:09:15,  5.53it/s, Loss=0.0358003]\n",
            "[ITER 7000] Evaluating train: L1 0.02018716298043728 PSNR 29.45206985473633 [07/10 06:23:56]\n",
            "\n",
            "[ITER 7000] Saving Gaussians [07/10 06:23:56]\n",
            "Training progress: 100% 30000/30000 [1:29:48<00:00,  5.57it/s, Loss=0.0189074]\n",
            "\n",
            "[ITER 30000] Evaluating train: L1 0.012138386256992817 PSNR 34.12196617126465 [07/10 07:38:58]\n",
            "\n",
            "[ITER 30000] Saving Gaussians [07/10 07:38:58]\n",
            "\n",
            "Training complete. [07/10 07:39:24]\n"
          ]
        }
      ]
    },
    {
      "cell_type": "code",
      "source": [
        "# Define the source and destination paths\n",
        "SOURCE_DIR = \"/content/gaussian-splatting/output/8d96b992-a\"\n",
        "DEST_DIR = \"/content/drive/MyDrive/gs_results/15_30k_seq_backup\" # Choose a descriptive name\n",
        "\n",
        "# Copy the entire directory\n",
        "print(f\"Copying model from {SOURCE_DIR} to {DEST_DIR}...\")\n",
        "!cp -r {SOURCE_DIR} {DEST_DIR}\n",
        "print(\"Copy complete.\")"
      ],
      "metadata": {
        "id": "H2etBgqeSYr0"
      },
      "execution_count": null,
      "outputs": []
    },
    {
      "cell_type": "code",
      "source": [
        "MODEL_PATH=\"/content/drive/MyDrive/gs_results/15_30k\"\n",
        "\n",
        "# Execute the render.py script for evaluation.\n",
        "# -m: Specifies the path to the trained model directory.\n",
        "# --skip_train: Tells the script to only process the test/held-out views.\n",
        "# --eval: Instructs the script to compute quantitative metrics (PSNR, SSIM, etc.).\n",
        "!python render.py -m {MODEL_PATH} --skip_train --eval"
      ],
      "metadata": {
        "id": "dA88fIKlnSWb",
        "outputId": "0171c686-74e4-4fb8-f4f8-a935807f05d0",
        "colab": {
          "base_uri": "https://localhost:8080/"
        }
      },
      "execution_count": 25,
      "outputs": [
        {
          "output_type": "stream",
          "name": "stdout",
          "text": [
            "Looking for config file in /content/drive/MyDrive/gs_results/15_30k/cfg_args\n",
            "Config file found: /content/drive/MyDrive/gs_results/15_30k/cfg_args\n",
            "Rendering /content/drive/MyDrive/gs_results/15_30k\n",
            "Loading trained model at iteration 30000 [07/10 07:41:32]\n",
            "\rReading camera 1/15\rReading camera 2/15\rReading camera 3/15\rReading camera 4/15\rReading camera 5/15\rReading camera 6/15\rReading camera 7/15\rReading camera 8/15\rReading camera 9/15\rReading camera 10/15\rReading camera 11/15\rReading camera 12/15\rReading camera 13/15\rReading camera 14/15\rReading camera 15/15 [07/10 07:41:32]\n",
            "Loading Training Cameras [07/10 07:41:32]\n",
            "[ INFO ] Encountered quite large input images (>1.6K pixels width), rescaling to 1.6K.\n",
            " If this is not desired, please explicitly specify '--resolution/-r' as 1 [07/10 07:41:32]\n",
            "Loading Test Cameras [07/10 07:41:44]\n",
            "Rendering progress: 100% 3/3 [00:04<00:00,  1.43s/it]\n"
          ]
        }
      ]
    },
    {
      "cell_type": "code",
      "source": [
        "!python render.py -m {MODEL_PATH} --skip_train --eval"
      ],
      "metadata": {
        "id": "TVmgxoKznUBy",
        "outputId": "165405cd-ac01-4922-8e03-211ea24a4390",
        "colab": {
          "base_uri": "https://localhost:8080/"
        }
      },
      "execution_count": 26,
      "outputs": [
        {
          "output_type": "stream",
          "name": "stdout",
          "text": [
            "Looking for config file in /content/drive/MyDrive/gs_results/15_30k/cfg_args\n",
            "Config file found: /content/drive/MyDrive/gs_results/15_30k/cfg_args\n",
            "Rendering /content/drive/MyDrive/gs_results/15_30k\n",
            "Loading trained model at iteration 30000 [07/10 07:42:14]\n",
            "\rReading camera 1/15\rReading camera 2/15\rReading camera 3/15\rReading camera 4/15\rReading camera 5/15\rReading camera 6/15\rReading camera 7/15\rReading camera 8/15\rReading camera 9/15\rReading camera 10/15\rReading camera 11/15\rReading camera 12/15\rReading camera 13/15\rReading camera 14/15\rReading camera 15/15 [07/10 07:42:14]\n",
            "Loading Training Cameras [07/10 07:42:14]\n",
            "[ INFO ] Encountered quite large input images (>1.6K pixels width), rescaling to 1.6K.\n",
            " If this is not desired, please explicitly specify '--resolution/-r' as 1 [07/10 07:42:14]\n",
            "Loading Test Cameras [07/10 07:42:23]\n",
            "Rendering progress: 100% 3/3 [00:03<00:00,  1.19s/it]\n"
          ]
        }
      ]
    },
    {
      "cell_type": "code",
      "source": [
        "!python render.py -m {MODEL_PATH} --skip_train --eval"
      ],
      "metadata": {
        "id": "CgCOO9rVnsak",
        "outputId": "6acb8e50-4c60-48de-fb82-67cd2d15683a",
        "colab": {
          "base_uri": "https://localhost:8080/"
        }
      },
      "execution_count": 27,
      "outputs": [
        {
          "output_type": "stream",
          "name": "stdout",
          "text": [
            "Looking for config file in /content/drive/MyDrive/gs_results/15_30k/cfg_args\n",
            "Config file found: /content/drive/MyDrive/gs_results/15_30k/cfg_args\n",
            "Rendering /content/drive/MyDrive/gs_results/15_30k\n",
            "Loading trained model at iteration 30000 [07/10 07:43:27]\n",
            "\rReading camera 1/15\rReading camera 2/15\rReading camera 3/15\rReading camera 4/15\rReading camera 5/15\rReading camera 6/15\rReading camera 7/15\rReading camera 8/15\rReading camera 9/15\rReading camera 10/15\rReading camera 11/15\rReading camera 12/15\rReading camera 13/15\rReading camera 14/15\rReading camera 15/15 [07/10 07:43:27]\n",
            "Loading Training Cameras [07/10 07:43:27]\n",
            "[ INFO ] Encountered quite large input images (>1.6K pixels width), rescaling to 1.6K.\n",
            " If this is not desired, please explicitly specify '--resolution/-r' as 1 [07/10 07:43:27]\n",
            "Loading Test Cameras [07/10 07:43:36]\n",
            "Rendering progress: 100% 3/3 [00:03<00:00,  1.19s/it]\n"
          ]
        }
      ]
    },
    {
      "cell_type": "code",
      "source": [
        "# Set the path to your 30-image COLMAP output folder\n",
        "# (Adjust '30_seq' if you chose the exhaustive option or a different folder name)\n",
        "DATASET_PATH_30 = '/content/colmap_data/30_seq'\n",
        "\n",
        "# Run 7,000 iterations\n",
        "print(\"Starting GS training (30 images, 7k iterations, holdout 10)...\")\n",
        "!python train.py -s {DATASET_PATH_30} --iterations 7000 --model_path \"/content/drive/My Drive/gs_results/30_7k\""
      ],
      "metadata": {
        "id": "7yId2imEoAv_",
        "outputId": "0014f421-4e4c-4e09-b81e-579fc2d28317",
        "colab": {
          "base_uri": "https://localhost:8080/"
        }
      },
      "execution_count": 28,
      "outputs": [
        {
          "output_type": "stream",
          "name": "stdout",
          "text": [
            "Starting GS training (30 images, 7k iterations, holdout 10)...\n",
            "Optimizing /content/drive/My Drive/gs_results/30_7k\n",
            "Output folder: /content/drive/My Drive/gs_results/30_7k [07/10 07:46:44]\n",
            "Tensorboard not available: not logging progress [07/10 07:46:44]\n",
            "Traceback (most recent call last):\n",
            "  File \"train.py\", line 216, in <module>\n",
            "    training(lp.extract(args), op.extract(args), pp.extract(args), args.test_iterations, args.save_iterations, args.checkpoint_iterations, args.start_checkpoint, args.debug_from)\n",
            "  File \"train.py\", line 35, in training\n",
            "    scene = Scene(dataset, gaussians)\n",
            "  File \"/content/gaussian-splatting/scene/__init__.py\", line 49, in __init__\n",
            "    assert False, \"Could not recognize scene type!\"\n",
            "AssertionError: Could not recognize scene type!\n"
          ]
        }
      ]
    },
    {
      "cell_type": "code",
      "source": [],
      "metadata": {
        "id": "tGVdiHiuowzR"
      },
      "execution_count": null,
      "outputs": []
    }
  ]
}